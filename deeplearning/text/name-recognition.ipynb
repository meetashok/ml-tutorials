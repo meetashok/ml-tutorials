{
 "cells": [
  {
   "cell_type": "code",
   "execution_count": 125,
   "metadata": {},
   "outputs": [],
   "source": [
    "import torch\n",
    "import torch.nn as nn\n",
    "import torch.optim as optim\n",
    "from torch.utils.data import DataLoader, Dataset\n",
    "\n",
    "from sklearn.model_selection import train_test_split\n",
    "\n",
    "import seaborn as sns\n",
    "\n",
    "import requests\n",
    "import io\n",
    "import pandas as pd\n",
    "\n",
    "import zipfile\n",
    "import re\n",
    "import os\n",
    "\n",
    "import unicodedata\n",
    "import string"
   ]
  },
  {
   "cell_type": "code",
   "execution_count": 126,
   "metadata": {},
   "outputs": [],
   "source": [
    "all_letters = string.ascii_lowercase + \" .,;'\"\n",
    "n_letters = len(all_letters)\n",
    "url = \"https://download.pytorch.org/tutorial/data.zip\""
   ]
  },
  {
   "cell_type": "code",
   "execution_count": 127,
   "metadata": {},
   "outputs": [],
   "source": [
    "def unicodeToAscii(s):\n",
    "    return ''.join(\n",
    "        c for c in unicodedata.normalize('NFD', s)\n",
    "        if unicodedata.category(c) != 'Mn'\n",
    "        and c in all_letters\n",
    "    )\n",
    "\n",
    "def readfile(filename, z):\n",
    "    content = z.read(filename)\n",
    "    language = os.path.splitext(os.path.basename(filename))[0]\n",
    "    names = content.decode(\"utf-8\").split(\"\\n\")\n",
    "    return language, [unicodeToAscii(name.strip().lower()) for name in names if len(name.strip()) > 0]\n",
    "\n",
    "def buildnames(url):\n",
    "    response = requests.get(url)\n",
    "    b = io.BytesIO(response.content)\n",
    "    z = zipfile.ZipFile(b)\n",
    "    \n",
    "    pattern = re.compile(r\"^data/names/(\\w+)\\.txt\")\n",
    "    filenames = [f.filename for f in z.infolist() if re.match(pattern, f.filename)]\n",
    "    \n",
    "    all_names = []\n",
    "    \n",
    "    for filename in filenames:\n",
    "        language, names = readfile(filename, z)\n",
    "        all_names += list(zip([language]*len(names), names))\n",
    "        \n",
    "    return pd.DataFrame(all_names, columns=[\"language\", \"person_name\"])"
   ]
  },
  {
   "cell_type": "code",
   "execution_count": 133,
   "metadata": {},
   "outputs": [],
   "source": [
    "def letter_to_index(letter):\n",
    "    return all_letters.find(letter) + 1 # zero is reserved for padding\n",
    "    \n",
    "def name_to_tensor(name, max_len):\n",
    "    name = name.lower()\n",
    "    name_tensor = torch.zeros((max_len), dtype=torch.long)\n",
    "    for i, letter in enumerate(name):\n",
    "        if i < max_len:\n",
    "            name_tensor[i] = letter_to_index(letter)\n",
    "            \n",
    "    return name_tensor"
   ]
  },
  {
   "cell_type": "code",
   "execution_count": 134,
   "metadata": {},
   "outputs": [
    {
     "data": {
      "text/plain": [
       "tensor([ 1, 19,  8, 15, 11,  0,  0,  0,  0,  0,  0,  0,  0,  0,  0,  0,  0,  0,\n",
       "         0])"
      ]
     },
     "execution_count": 134,
     "metadata": {},
     "output_type": "execute_result"
    }
   ],
   "source": [
    "name_to_tensor('ashok', max_len)"
   ]
  },
  {
   "cell_type": "markdown",
   "metadata": {},
   "source": [
    "### Torch dataset"
   ]
  },
  {
   "cell_type": "code",
   "execution_count": 113,
   "metadata": {},
   "outputs": [],
   "source": [
    "class NamesDataset(Dataset):\n",
    "    def __init__(self, dataframe, max_len):\n",
    "        self.dataframe = dataframe\n",
    "        self.max_len = max_len\n",
    "        \n",
    "    def __len__(self):\n",
    "        return len(self.dataframe.index)\n",
    "    \n",
    "    def __getitem__(self, item):\n",
    "        row = self.dataframe.loc[item]\n",
    "        \n",
    "        name = row.person_name\n",
    "        language = row.language\n",
    "        \n",
    "        language_idx = language_to_idx[language]\n",
    "        name_tensor = name_to_tensor(name, self.max_len)\n",
    "        \n",
    "        return {\n",
    "            \"language_idx\": torch.tensor(language_idx, dtype=torch.long),\n",
    "            \"name_tensor\": name_tensor\n",
    "        }"
   ]
  },
  {
   "cell_type": "markdown",
   "metadata": {},
   "source": [
    "### The Embedding layer\n",
    "Embedding layer is initialized with a shape `(num_embeddings, embedding_dim)`. The first dimension corresponds to the max index. For example, if we want to train a character level network with 27 characters (space + 26 alphabets), then we will used `num_embeddings=27`. The layer will be initialized with random values that will be learned during training. "
   ]
  },
  {
   "cell_type": "code",
   "execution_count": 212,
   "metadata": {},
   "outputs": [],
   "source": [
    "class CharacterNet(nn.Module):\n",
    "    def __init__(self, input_size, embedding_dim, hidden_size, output_size):\n",
    "        super(CharacterNet, self).__init__()\n",
    "        self.input_size = input_size\n",
    "        self.embedding_dim = embedding_dim\n",
    "        self.hidden_size = hidden_size\n",
    "        self.output_size = output_size\n",
    "        \n",
    "        self.embedding = nn.Embedding(input_size, embedding_dim)\n",
    "        self.rnn = nn.RNN(embedding_dim, hidden_size)\n",
    "        self.linear = nn.Linear(hidden_size, output_size)\n",
    "        \n",
    "    def forward(self, x):\n",
    "        x = torch.transpose(x, 1, 0)\n",
    "        x = self.embedding(x)\n",
    "        out, hidden = self.rnn(x)\n",
    "        x = self.linear(hidden[-1])\n",
    "        return x"
   ]
  },
  {
   "cell_type": "code",
   "execution_count": 213,
   "metadata": {},
   "outputs": [],
   "source": [
    "def train_epoch():\n",
    "    train_losses, valid_losses = [], []\n",
    "    train_loss, valid_loss = 0, 0\n",
    "    \n",
    "    model.train()\n",
    "    for train_data in train_dataloader:\n",
    "        name_tensor = train_data[\"name_tensor\"]\n",
    "        language_idx = train_data[\"language_idx\"]\n",
    "        \n",
    "        with torch.set_grad_enabled(True):\n",
    "            output = model(name_tensor)\n",
    "            loss = loss_function(output, language_idx)\n",
    "            \n",
    "            loss.backward()\n",
    "            optimizer.step()\n",
    "            optimizer.zero_grad()\n",
    "            \n",
    "            train_loss += loss.item()\n",
    "            train_losses += [loss.item() / len(train_data)]\n",
    "        \n",
    "    model.eval()\n",
    "    for valid_data in valid_dataloader:\n",
    "        name_tensor = valid_data[\"name_tensor\"]\n",
    "        language_idx = valid_data[\"language_idx\"]\n",
    "        \n",
    "        with torch.set_grad_enabled(False):\n",
    "            output = model(name_tensor)\n",
    "            loss = loss_function(output, language_idx)\n",
    "    \n",
    "            valid_loss += loss.item()\n",
    "            valid_losses += [loss.item() / len(valid_data)]\n",
    "    \n",
    "    # plotting losess\n",
    "    ax = sns.lineplot(list(range(len(train_losses))), train_losses, label=\"train\")\n",
    "#     ax = sns.lineplot(list(range(len(valid_losses))), valid_losses, label=\"valid\")\n",
    "#     ax.set_title(f\"Train and valid losses\");\n",
    "    \n",
    "    train_loss /= len(train_dataloader.dataset)\n",
    "    valid_loss /= len(valid_dataloader.dataset)\n",
    "    \n",
    "    print(f\"Epoch train loss: {train_loss:.4f}, Epoch valid loss: {valid_loss:.4f}\")\n",
    "        \n",
    "    return train_loss, valid_loss"
   ]
  },
  {
   "cell_type": "code",
   "execution_count": 137,
   "metadata": {},
   "outputs": [],
   "source": [
    "names = buildnames(url)\n",
    "languages = names.language.unique()\n",
    "nlanguages = len(languages)\n",
    "max_len = names.person_name.apply(len).max() \n",
    "\n",
    "language_to_idx = dict([(language, i) for (i, language) in enumerate(languages)])\n",
    "idx_to_language = dict([(i, language) for (language, i) in language_to_idx.items()])\n",
    "\n",
    "train, valid = train_test_split(names, test_size=0.2)"
   ]
  },
  {
   "cell_type": "code",
   "execution_count": 214,
   "metadata": {},
   "outputs": [],
   "source": [
    "batch_size = 32\n",
    "\n",
    "train_dataset = NamesDataset(train.reset_index(), max_len)\n",
    "valid_dataset = NamesDataset(valid.reset_index(), max_len)\n",
    "\n",
    "train_dataloader = DataLoader(train_dataset, batch_size=batch_size, shuffle=True)\n",
    "valid_dataloader = DataLoader(valid_dataset, batch_size=batch_size, shuffle=True)"
   ]
  },
  {
   "cell_type": "code",
   "execution_count": 215,
   "metadata": {},
   "outputs": [],
   "source": [
    "model = CharacterNet(n_letters+1, 10, 10, nlanguages)"
   ]
  },
  {
   "cell_type": "code",
   "execution_count": 216,
   "metadata": {},
   "outputs": [],
   "source": [
    "loss_function = nn.CrossEntropyLoss(reduction=\"sum\")\n",
    "optimizer = optim.Adam(model.parameters(), lr=0.0001)"
   ]
  },
  {
   "cell_type": "code",
   "execution_count": 217,
   "metadata": {},
   "outputs": [
    {
     "name": "stdout",
     "output_type": "stream",
     "text": [
      "Epoch train loss: 2.5890, Epoch valid loss: 2.2900\n"
     ]
    },
    {
     "data": {
      "image/png": "[encoded data removed]",
      "text/plain": [
       "<Figure size 432x288 with 1 Axes>"
      ]
     },
     "metadata": {
      "needs_background": "light"
     },
     "output_type": "display_data"
    }
   ],
   "source": [
    "train_loss, valid_loss = train_epoch()"
   ]
  },
  {
   "cell_type": "code",
   "execution_count": 187,
   "metadata": {},
   "outputs": [
    {
     "name": "stdout",
     "output_type": "stream",
     "text": [
      "Epoch train loss: 2.0180, Epoch valid loss: 1.9449\n",
      "Epoch train loss: 1.9005, Epoch valid loss: 1.8913\n",
      "Epoch train loss: 1.8650, Epoch valid loss: 1.8718\n",
      "Epoch train loss: 1.8508, Epoch valid loss: 1.8639\n",
      "Epoch train loss: 1.8448, Epoch valid loss: 1.8608\n"
     ]
    },
    {
     "data": {
      "image/png": "[encoded data removed]",
      "text/plain": [
       "<Figure size 432x288 with 1 Axes>"
      ]
     },
     "metadata": {
      "needs_background": "light"
     },
     "output_type": "display_data"
    }
   ],
   "source": [
    "for _ in range(5):\n",
    "    train_loss, valid_loss = train_epoch()"
   ]
  },
  {
   "cell_type": "markdown",
   "metadata": {},
   "source": [
    "### Model inference"
   ]
  },
  {
   "cell_type": "code",
   "execution_count": 225,
   "metadata": {},
   "outputs": [
    {
     "name": "stdout",
     "output_type": "stream",
     "text": [
      "Validation accuracy: 0.4625\n"
     ]
    }
   ],
   "source": [
    "accurate = 0\n",
    "model.eval()\n",
    "for valid_data in valid_dataloader:\n",
    "    name_tensor = valid_data[\"name_tensor\"]\n",
    "    language_idx = valid_data[\"language_idx\"]\n",
    "    \n",
    "    with torch.set_grad_enabled(False):\n",
    "        logits = model(name_tensor)\n",
    "        preds = torch.argmax(logits, axis=1)\n",
    "        accurate += torch.sum(preds==language_idx).item()\n",
    "    \n",
    "print(f\"Validation accuracy: {accurate / len(valid_dataloader.dataset):.4f}\")"
   ]
  },
  {
   "cell_type": "markdown",
   "metadata": {},
   "source": [
    "### Prediction for single name"
   ]
  },
  {
   "cell_type": "code",
   "execution_count": 248,
   "metadata": {},
   "outputs": [],
   "source": [
    "name = \"ashok\""
   ]
  },
  {
   "cell_type": "code",
   "execution_count": 249,
   "metadata": {},
   "outputs": [],
   "source": [
    "name_tensor = name_to_tensor(name, max_len)\n",
    "logits = model(name_tensor.unsqueeze(0))\n",
    "pred = torch.argmax(logits, axis=1)\n",
    "language = idx_to_language[pred.item()]"
   ]
  },
  {
   "cell_type": "code",
   "execution_count": 250,
   "metadata": {},
   "outputs": [
    {
     "name": "stdout",
     "output_type": "stream",
     "text": [
      "Index: 14, Language: Russian\n"
     ]
    }
   ],
   "source": [
    "print(f\"Index: {pred.item()}, Language: {language}\")"
   ]
  },
  {
   "cell_type": "code",
   "execution_count": 107,
   "metadata": {},
   "outputs": [],
   "source": [
    "x = model.embedding(name_to_tensor(\"asasas\", max_len).unsqueeze(1))"
   ]
  },
  {
   "cell_type": "code",
   "execution_count": 108,
   "metadata": {},
   "outputs": [
    {
     "data": {
      "text/plain": [
       "torch.Size([19, 1, 10])"
      ]
     },
     "execution_count": 108,
     "metadata": {},
     "output_type": "execute_result"
    }
   ],
   "source": [
    "x.shape"
   ]
  },
  {
   "cell_type": "code",
   "execution_count": 109,
   "metadata": {},
   "outputs": [],
   "source": [
    "o, h = model.rnn(x)"
   ]
  },
  {
   "cell_type": "code",
   "execution_count": 111,
   "metadata": {},
   "outputs": [
    {
     "data": {
      "text/plain": [
       "(torch.Size([19, 1, 10]), torch.Size([1, 1, 10]))"
      ]
     },
     "execution_count": 111,
     "metadata": {},
     "output_type": "execute_result"
    }
   ],
   "source": [
    "o.shape, h.shape"
   ]
  },
  {
   "cell_type": "code",
   "execution_count": 237,
   "metadata": {},
   "outputs": [],
   "source": [
    "for data in train_dataloader:\n",
    "    x = data\n",
    "    break"
   ]
  },
  {
   "cell_type": "code",
   "execution_count": 238,
   "metadata": {},
   "outputs": [],
   "source": [
    "name_tensor = x[\"name_tensor\"]\n",
    "language_idx = x[\"language_idx\"]"
   ]
  },
  {
   "cell_type": "code",
   "execution_count": 239,
   "metadata": {},
   "outputs": [
    {
     "data": {
      "text/plain": [
       "torch.Size([32, 19])"
      ]
     },
     "execution_count": 239,
     "metadata": {},
     "output_type": "execute_result"
    }
   ],
   "source": [
    "name_tensor.shape"
   ]
  },
  {
   "cell_type": "code",
   "execution_count": 240,
   "metadata": {},
   "outputs": [],
   "source": [
    "x = model.embedding(name_tensor.transpose(0, 1))"
   ]
  },
  {
   "cell_type": "code",
   "execution_count": 241,
   "metadata": {},
   "outputs": [
    {
     "data": {
      "text/plain": [
       "torch.Size([19, 32, 10])"
      ]
     },
     "execution_count": 241,
     "metadata": {},
     "output_type": "execute_result"
    }
   ],
   "source": [
    "x.shape"
   ]
  },
  {
   "cell_type": "code",
   "execution_count": 242,
   "metadata": {},
   "outputs": [],
   "source": [
    "o, h = model.rnn(x)"
   ]
  },
  {
   "cell_type": "code",
   "execution_count": 243,
   "metadata": {},
   "outputs": [
    {
     "data": {
      "text/plain": [
       "(torch.Size([19, 32, 10]), torch.Size([1, 32, 10]))"
      ]
     },
     "execution_count": 243,
     "metadata": {},
     "output_type": "execute_result"
    }
   ],
   "source": [
    "o.shape, h.shape"
   ]
  },
  {
   "cell_type": "code",
   "execution_count": 244,
   "metadata": {},
   "outputs": [
    {
     "data": {
      "text/plain": [
       "torch.Size([32, 10])"
      ]
     },
     "execution_count": 244,
     "metadata": {},
     "output_type": "execute_result"
    }
   ],
   "source": [
    "h[-1].shape"
   ]
  },
  {
   "cell_type": "code",
   "execution_count": 246,
   "metadata": {},
   "outputs": [
    {
     "data": {
      "text/plain": [
       "torch.Size([32, 18])"
      ]
     },
     "execution_count": 246,
     "metadata": {},
     "output_type": "execute_result"
    }
   ],
   "source": [
    "logits = model.linear(h[-1])\n",
    "logits.shape"
   ]
  },
  {
   "cell_type": "code",
   "execution_count": 171,
   "metadata": {},
   "outputs": [
    {
     "data": {
      "text/plain": [
       "torch.Size([27])"
      ]
     },
     "execution_count": 171,
     "metadata": {},
     "output_type": "execute_result"
    }
   ],
   "source": [
    "language_idx.shape"
   ]
  },
  {
   "cell_type": "code",
   "execution_count": 172,
   "metadata": {},
   "outputs": [
    {
     "data": {
      "text/plain": [
       "tensor(81.3065, grad_fn=<NllLossBackward>)"
      ]
     },
     "execution_count": 172,
     "metadata": {},
     "output_type": "execute_result"
    }
   ],
   "source": [
    "loss_function(logits, language_idx)"
   ]
  },
  {
   "cell_type": "code",
   "execution_count": 251,
   "metadata": {},
   "outputs": [
    {
     "data": {
      "text/plain": [
       "tensor([ 4,  4, 14, 15,  0, 14, 14, 14, 14,  4,  5, 14, 14,  9, 14, 14, 14, 14,\n",
       "        14,  6, 14, 14, 14, 10, 14, 14, 14,  0,  6, 14, 14,  4])"
      ]
     },
     "execution_count": 251,
     "metadata": {},
     "output_type": "execute_result"
    }
   ],
   "source": [
    "language_idx"
   ]
  },
  {
   "cell_type": "code",
   "execution_count": null,
   "metadata": {},
   "outputs": [],
   "source": []
  }
 ],
 "metadata": {
  "kernelspec": {
   "display_name": "Python [conda env:.conda-kaggle-sentiment]",
   "language": "python",
   "name": "conda-env-.conda-kaggle-sentiment-py"
  },
  "language_info": {
   "codemirror_mode": {
    "name": "ipython",
    "version": 3
   },
   "file_extension": ".py",
   "mimetype": "text/x-python",
   "name": "python",
   "nbconvert_exporter": "python",
   "pygments_lexer": "ipython3",
   "version": "3.7.7"
  }
 },
 "nbformat": 4,
 "nbformat_minor": 4
}
