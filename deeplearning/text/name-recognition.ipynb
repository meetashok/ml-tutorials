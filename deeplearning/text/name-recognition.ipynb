{
 "cells": [
  {
   "cell_type": "code",
   "execution_count": 1,
   "metadata": {},
   "outputs": [],
   "source": [
    "import torch\n",
    "import torch.nn as nn\n",
    "import torch.optim as optim\n",
    "from torch.utils.data import DataLoader, Dataset\n",
    "\n",
    "from sklearn.model_selection import train_test_split\n",
    "\n",
    "import seaborn as sns\n",
    "\n",
    "import requests\n",
    "import io\n",
    "import pandas as pd\n",
    "\n",
    "import zipfile\n",
    "import re\n",
    "import os\n",
    "\n",
    "import unicodedata\n",
    "import string"
   ]
  },
  {
   "cell_type": "markdown",
   "metadata": {},
   "source": [
    "### Downloading data and converting it to a dataframe"
   ]
  },
  {
   "cell_type": "code",
   "execution_count": 2,
   "metadata": {},
   "outputs": [],
   "source": [
    "def unicodeToAscii(s):\n",
    "    return ''.join(\n",
    "        c for c in unicodedata.normalize('NFD', s)\n",
    "        if unicodedata.category(c) != 'Mn'\n",
    "        and c in all_letters\n",
    "    )\n",
    "\n",
    "def readfile(filename, z):\n",
    "    content = z.read(filename)\n",
    "    language = os.path.splitext(os.path.basename(filename))[0]\n",
    "    names = content.decode(\"utf-8\").split(\"\\n\")\n",
    "    return language, [unicodeToAscii(name.strip().lower()) for name in names if len(name.strip()) > 0]\n",
    "\n",
    "def buildnames(url):\n",
    "    response = requests.get(url)\n",
    "    b = io.BytesIO(response.content)\n",
    "    z = zipfile.ZipFile(b)\n",
    "    \n",
    "    pattern = re.compile(r\"^data/names/(\\w+)\\.txt\")\n",
    "    filenames = [f.filename for f in z.infolist() if re.match(pattern, f.filename)]\n",
    "    \n",
    "    all_names = []\n",
    "    \n",
    "    for filename in filenames:\n",
    "        language, names = readfile(filename, z)\n",
    "        all_names += list(zip([language]*len(names), names))\n",
    "        \n",
    "    return pd.DataFrame(all_names, columns=[\"language\", \"person_name\"]).drop_duplicates()"
   ]
  },
  {
   "cell_type": "code",
   "execution_count": 3,
   "metadata": {},
   "outputs": [],
   "source": [
    "all_letters = string.ascii_lowercase + \" .,;'\"\n",
    "n_letters = len(all_letters)\n",
    "url = \"https://download.pytorch.org/tutorial/data.zip\"\n",
    "\n",
    "names = buildnames(url)\n",
    "languages = names.language.unique()\n",
    "nlanguages = len(languages)\n",
    "max_len = names.person_name.apply(len).max() \n",
    "\n",
    "language_to_idx = dict([(language, i) for (i, language) in enumerate(languages)])\n",
    "idx_to_language = dict([(i, language) for (language, i) in language_to_idx.items()])\n",
    "\n",
    "train, valid = train_test_split(names, test_size=0.2, stratify=names.language)"
   ]
  },
  {
   "cell_type": "markdown",
   "metadata": {},
   "source": [
    "### Encoding names into tensors\n",
    "It is important that the all names are encoded to the same length. Also, it is important that the padding is done in the front"
   ]
  },
  {
   "cell_type": "code",
   "execution_count": 4,
   "metadata": {},
   "outputs": [],
   "source": [
    "def letter_to_index(letter):\n",
    "    return all_letters.find(letter) + 1 # zero is reserved for padding\n",
    "    \n",
    "def name_to_tensor(name, max_len):\n",
    "    name = name.lower()\n",
    "    name_tensor = torch.zeros(max_len, dtype=torch.long)\n",
    "    for i, letter in enumerate(name):\n",
    "        name_tensor[-(len(name) - i)] = letter_to_index(letter)\n",
    "            \n",
    "    return name_tensor"
   ]
  },
  {
   "cell_type": "markdown",
   "metadata": {},
   "source": [
    "### Torch dataset"
   ]
  },
  {
   "cell_type": "code",
   "execution_count": 5,
   "metadata": {},
   "outputs": [],
   "source": [
    "class NamesDataset(Dataset):\n",
    "    def __init__(self, dataframe, max_len):\n",
    "        self.dataframe = dataframe\n",
    "        self.max_len = max_len\n",
    "        \n",
    "    def __len__(self):\n",
    "        return len(self.dataframe.index)\n",
    "    \n",
    "    def __getitem__(self, item):\n",
    "        row = self.dataframe.loc[item]\n",
    "        \n",
    "        name = row.person_name\n",
    "        language = row.language\n",
    "        \n",
    "        language_idx = language_to_idx[language]\n",
    "        name_tensor = name_to_tensor(name, self.max_len)\n",
    "        \n",
    "        return {\n",
    "            \"language_idx\": torch.tensor(language_idx, dtype=torch.long),\n",
    "            \"name_tensor\": name_tensor\n",
    "        }"
   ]
  },
  {
   "cell_type": "markdown",
   "metadata": {},
   "source": [
    "### The Embedding layer\n",
    "Embedding layer is initialized with a shape `(num_embeddings, embedding_dim)`. The first dimension corresponds to the max index. For example, if we want to train a character level network with 27 characters (space + 26 alphabets), then we will used `num_embeddings=27`. The layer will be initialized with random values that will be learned during training. "
   ]
  },
  {
   "cell_type": "code",
   "execution_count": 6,
   "metadata": {},
   "outputs": [],
   "source": [
    "class CharacterNet(nn.Module):\n",
    "    def __init__(self, input_size, embedding_dim, hidden_size, output_size):\n",
    "        super(CharacterNet, self).__init__()\n",
    "        self.input_size = input_size\n",
    "        self.embedding_dim = embedding_dim\n",
    "        self.hidden_size = hidden_size\n",
    "        self.output_size = output_size\n",
    "        \n",
    "        self.embedding = nn.Embedding(input_size, embedding_dim)\n",
    "        self.rnn = nn.RNN(embedding_dim, hidden_size, batch_first=True)\n",
    "        self.linear = nn.Linear(hidden_size, output_size)\n",
    "        \n",
    "    def forward(self, x):\n",
    "        x = self.embedding(x)\n",
    "        out, hidden = self.rnn(x)\n",
    "        x = self.linear(out[:,-1,:])\n",
    "        return x"
   ]
  },
  {
   "cell_type": "markdown",
   "metadata": {},
   "source": [
    "### Training model"
   ]
  },
  {
   "cell_type": "code",
   "execution_count": 7,
   "metadata": {},
   "outputs": [],
   "source": [
    "def train_epoch(plot_losses=True):\n",
    "    train_losses, valid_losses = [], []\n",
    "    train_loss, valid_loss = 0, 0\n",
    "    \n",
    "    model.train()\n",
    "    for train_data in train_dataloader:\n",
    "        name_tensor = train_data[\"name_tensor\"]\n",
    "        language_idx = train_data[\"language_idx\"]\n",
    "        \n",
    "        with torch.set_grad_enabled(True):\n",
    "            output = model(name_tensor)\n",
    "            loss = loss_function(output, language_idx)\n",
    "            \n",
    "            loss.backward()\n",
    "            \n",
    "            nn.utils.clip_grad_norm_(model.parameters(), 5)\n",
    "            optimizer.step()\n",
    "            optimizer.zero_grad()\n",
    "            \n",
    "            train_loss += loss.item()\n",
    "            train_losses += [loss.item() / len(language_idx)]\n",
    "        \n",
    "    model.eval()\n",
    "    for valid_data in valid_dataloader:\n",
    "        name_tensor = valid_data[\"name_tensor\"]\n",
    "        language_idx = valid_data[\"language_idx\"]\n",
    "        \n",
    "        with torch.set_grad_enabled(False):\n",
    "            output = model(name_tensor)\n",
    "            loss = loss_function(output, language_idx)\n",
    "    \n",
    "            valid_loss += loss.item()\n",
    "            valid_losses += [loss.item() / len(language_idx)]\n",
    "    \n",
    "    if plot_losses:\n",
    "        # plotting losess\n",
    "        ax = sns.lineplot(list(range(len(train_losses))), train_losses, label=\"train\")\n",
    "    #     ax = sns.lineplot(list(range(len(valid_losses))), valid_losses, label=\"valid\")\n",
    "    #     ax.set_title(f\"Train and valid losses\");\n",
    "    \n",
    "    train_loss /= len(train_dataloader.dataset)\n",
    "    valid_loss /= len(valid_dataloader.dataset)\n",
    "    \n",
    "    print(f\"Epoch train loss: {train_loss:.4f}, Epoch valid loss: {valid_loss:.4f}\")\n",
    "        \n",
    "    return train_loss, valid_loss"
   ]
  },
  {
   "cell_type": "code",
   "execution_count": 8,
   "metadata": {},
   "outputs": [],
   "source": [
    "batch_size = 32\n",
    "\n",
    "train_dataset = NamesDataset(train.reset_index(), max_len)\n",
    "valid_dataset = NamesDataset(valid.reset_index(), max_len)\n",
    "\n",
    "train_dataloader = DataLoader(train_dataset, batch_size=batch_size, shuffle=True)\n",
    "valid_dataloader = DataLoader(valid_dataset, batch_size=batch_size, shuffle=True)"
   ]
  },
  {
   "cell_type": "markdown",
   "metadata": {},
   "source": [
    "### Train loss per mini-batch"
   ]
  },
  {
   "cell_type": "code",
   "execution_count": 9,
   "metadata": {},
   "outputs": [
    {
     "name": "stdout",
     "output_type": "stream",
     "text": [
      "Epoch train loss: 1.4599, Epoch valid loss: 1.1931\n"
     ]
    },
    {
     "data": {
      "image/png": "[encoded data removed]",
      "text/plain": [
       "<Figure size 432x288 with 1 Axes>"
      ]
     },
     "metadata": {
      "needs_background": "light"
     },
     "output_type": "display_data"
    }
   ],
   "source": [
    "model = CharacterNet(n_letters+1, 10, 40, nlanguages)\n",
    "loss_function = nn.CrossEntropyLoss(reduction=\"sum\")\n",
    "optimizer = optim.Adam(model.parameters(), lr=0.001)\n",
    "train_loss, valid_loss = train_epoch()"
   ]
  },
  {
   "cell_type": "markdown",
   "metadata": {},
   "source": [
    "### Training model for 20 epochs"
   ]
  },
  {
   "cell_type": "code",
   "execution_count": 10,
   "metadata": {},
   "outputs": [
    {
     "name": "stdout",
     "output_type": "stream",
     "text": [
      "Epoch train loss: 1.4393, Epoch valid loss: 1.1749\n",
      "Epoch train loss: 1.0974, Epoch valid loss: 1.0411\n",
      "Epoch train loss: 1.0040, Epoch valid loss: 0.9645\n",
      "Epoch train loss: 0.9489, Epoch valid loss: 0.9282\n",
      "Epoch train loss: 0.9099, Epoch valid loss: 0.8914\n",
      "Epoch train loss: 0.8773, Epoch valid loss: 0.8791\n",
      "Epoch train loss: 0.8535, Epoch valid loss: 0.8553\n",
      "Epoch train loss: 0.8316, Epoch valid loss: 0.8469\n",
      "Epoch train loss: 0.8126, Epoch valid loss: 0.8368\n",
      "Epoch train loss: 0.7941, Epoch valid loss: 0.8200\n",
      "Epoch train loss: 0.7790, Epoch valid loss: 0.8033\n",
      "Epoch train loss: 0.7654, Epoch valid loss: 0.7970\n",
      "Epoch train loss: 0.7500, Epoch valid loss: 0.7877\n",
      "Epoch train loss: 0.7414, Epoch valid loss: 0.7871\n",
      "Epoch train loss: 0.7288, Epoch valid loss: 0.7782\n",
      "Epoch train loss: 0.7194, Epoch valid loss: 0.7758\n",
      "Epoch train loss: 0.7117, Epoch valid loss: 0.7686\n",
      "Epoch train loss: 0.7022, Epoch valid loss: 0.7684\n",
      "Epoch train loss: 0.6956, Epoch valid loss: 0.7645\n",
      "Epoch train loss: 0.6873, Epoch valid loss: 0.7707\n"
     ]
    }
   ],
   "source": [
    "model = CharacterNet(n_letters+1, 10, 40, nlanguages)\n",
    "loss_function = nn.CrossEntropyLoss(reduction=\"sum\")\n",
    "optimizer = optim.Adam(model.parameters(), lr=0.001)\n",
    "\n",
    "train_losses, valid_losses = [], []\n",
    "\n",
    "for _ in range(20):\n",
    "    train_loss, valid_loss = train_epoch(plot_losses=False)\n",
    "    train_losses += [train_loss]\n",
    "    valid_losses += [valid_loss]"
   ]
  },
  {
   "cell_type": "code",
   "execution_count": 11,
   "metadata": {},
   "outputs": [
    {
     "data": {
      "text/plain": [
       "Text(0.5, 1.0, 'Train and validation losses by epoch')"
      ]
     },
     "execution_count": 11,
     "metadata": {},
     "output_type": "execute_result"
    },
    {
     "data": {
      "image/png": "[encoded data removed]",
      "text/plain": [
       "<Figure size 432x288 with 1 Axes>"
      ]
     },
     "metadata": {
      "needs_background": "light"
     },
     "output_type": "display_data"
    }
   ],
   "source": [
    "x = list(range(len(train_losses)))\n",
    "\n",
    "ax = sns.lineplot(x, train_losses, label=\"train\")\n",
    "sns.lineplot(x, valid_losses, label=\"valid\", ax=ax)\n",
    "ax.set_title(\"Train and validation losses by epoch\")"
   ]
  },
  {
   "cell_type": "markdown",
   "metadata": {},
   "source": [
    "### Model inference"
   ]
  },
  {
   "cell_type": "code",
   "execution_count": 12,
   "metadata": {},
   "outputs": [
    {
     "name": "stdout",
     "output_type": "stream",
     "text": [
      "Training accuracy   = 0.8001\n",
      "Validation accuracy = 0.7749\n"
     ]
    }
   ],
   "source": [
    "def eval_model(dataloader):\n",
    "    n_accurate = 0\n",
    "    model.eval()\n",
    "    for valid_data in dataloader:\n",
    "        name_tensor = valid_data[\"name_tensor\"]\n",
    "        language_idx = valid_data[\"language_idx\"]\n",
    "\n",
    "        with torch.set_grad_enabled(False):\n",
    "            logits = model(name_tensor)\n",
    "            preds = torch.argmax(logits, axis=1)\n",
    "            n_accurate += torch.sum(preds==language_idx).item()\n",
    "\n",
    "    accuracy = n_accurate / len(dataloader.dataset)\n",
    "    return accuracy\n",
    "\n",
    "print(f\"Training accuracy   = {eval_model(train_dataloader):.4f}\")\n",
    "print(f\"Validation accuracy = {eval_model(valid_dataloader):.4f}\")"
   ]
  },
  {
   "cell_type": "markdown",
   "metadata": {},
   "source": [
    "### Prediction for single name"
   ]
  },
  {
   "cell_type": "code",
   "execution_count": 13,
   "metadata": {},
   "outputs": [],
   "source": [
    "def predict_language(name):\n",
    "    name_tensor = name_to_tensor(name, max_len)\n",
    "    logits = model(name_tensor.unsqueeze(0))\n",
    "    pred = torch.argmax(logits, axis=1)\n",
    "    language = idx_to_language[pred.item()]\n",
    "    return language"
   ]
  },
  {
   "cell_type": "code",
   "execution_count": 14,
   "metadata": {},
   "outputs": [
    {
     "name": "stdout",
     "output_type": "stream",
     "text": [
      "Name: dobryakov    Prediction: Russian    <- Correct\n",
      "Name: noskov       Prediction: Russian    <- Correct\n",
      "Name: martinkus    Prediction: Russian    <- Correct\n",
      "Name: atalian      Prediction: Russian    <- Correct\n",
      "Name: herbert      Prediction: English    <- Incorrect (Correct = German)\n",
      "Name: cheng        Prediction: Chinese    <- Correct\n",
      "Name: glazunov     Prediction: Russian    <- Correct\n",
      "Name: krivolavy    Prediction: Russian    <- Incorrect (Correct = Czech)\n",
      "Name: maria        Prediction: Japanese   <- Incorrect (Correct = Spanish)\n",
      "Name: endolov      Prediction: Russian    <- Correct\n"
     ]
    }
   ],
   "source": [
    "for i, row in names.sample(n=10).iterrows():\n",
    "    p_language = predict_language(row.person_name)\n",
    "    \n",
    "    if p_language == row.language:\n",
    "        print(f\"Name: {row.person_name:12} Prediction: {p_language:10} <- Correct\")\n",
    "    else:\n",
    "        print(f\"Name: {row.person_name:12} Prediction: {p_language:10} <- Incorrect (Correct = {row.language})\")"
   ]
  }
 ],
 "metadata": {
  "kernelspec": {
   "display_name": "Python [conda env:.conda-kaggle-sentiment]",
   "language": "python",
   "name": "conda-env-.conda-kaggle-sentiment-py"
  },
  "language_info": {
   "codemirror_mode": {
    "name": "ipython",
    "version": 3
   },
   "file_extension": ".py",
   "mimetype": "text/x-python",
   "name": "python",
   "nbconvert_exporter": "python",
   "pygments_lexer": "ipython3",
   "version": "3.7.7"
  }
 },
 "nbformat": 4,
 "nbformat_minor": 4
}
