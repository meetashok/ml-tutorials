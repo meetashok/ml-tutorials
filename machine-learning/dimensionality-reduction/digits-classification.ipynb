{
 "cells": [
  {
   "cell_type": "code",
   "execution_count": 83,
   "metadata": {},
   "outputs": [],
   "source": [
    "from sklearn import datasets\n",
    "from sklearn.model_selection import train_test_split\n",
    "from sklearn.linear_model import LogisticRegression\n",
    "from sklearn.svm import SVC\n",
    "\n",
    "from sklearn.metrics import roc_auc_score, roc_curve, accuracy_score\n",
    "from sklearn.metrics import confusion_matrix, plot_confusion_matrix\n",
    "\n",
    "import matplotlib as mpl\n",
    "mpl.rcParams[\"figure.figsize\"] = (8, 8)\n",
    "\n",
    "import numpy as np"
   ]
  },
  {
   "cell_type": "markdown",
   "metadata": {},
   "source": [
    "### Loading image data and splitting into train and validation set"
   ]
  },
  {
   "cell_type": "code",
   "execution_count": 17,
   "metadata": {},
   "outputs": [
    {
     "name": "stdout",
     "output_type": "stream",
     "text": [
      "Images shape: (1797, 8, 8), Targets shape: (1797,)\n"
     ]
    }
   ],
   "source": [
    "digits = datasets.load_digits()\n",
    "images, target, target_names = digits.images, digits.target, digits.target_names\n",
    "print(f\"Images shape: {images.shape}, Targets shape: {target.shape}\")"
   ]
  },
  {
   "cell_type": "code",
   "execution_count": 18,
   "metadata": {},
   "outputs": [],
   "source": [
    "n_images = images.shape[0]\n",
    "data = images.reshape(n_images, -1)"
   ]
  },
  {
   "cell_type": "code",
   "execution_count": 37,
   "metadata": {},
   "outputs": [],
   "source": [
    "xtrain, xvalid, ytrain, yvalid = train_test_split(data, target, test_size=0.3, stratify=target)\n",
    "xtrain /= 255\n",
    "xvalid /= 255"
   ]
  },
  {
   "cell_type": "markdown",
   "metadata": {},
   "source": [
    "### Fitting models"
   ]
  },
  {
   "cell_type": "code",
   "execution_count": 64,
   "metadata": {},
   "outputs": [],
   "source": [
    "def fit_model(model):\n",
    "    model_fit = model.fit(xtrain, ytrain)\n",
    "    train_probs = model.predict_proba(xtrain)\n",
    "    valid_probs = model.predict_proba(xvalid)\n",
    "\n",
    "    train_pred = np.argmax(train_probs, axis=1)\n",
    "    valid_pred = np.argmax(valid_probs, axis=1)\n",
    "\n",
    "    train_accuracy = accuracy_score(ytrain, train_pred)\n",
    "    valid_accuracy = accuracy_score(yvalid, valid_pred)\n",
    "\n",
    "    print(f\"Training accuracy = {train_accuracy:.4f}, validation accuracy = {valid_accuracy:.4f}\")"
   ]
  },
  {
   "cell_type": "code",
   "execution_count": 65,
   "metadata": {},
   "outputs": [
    {
     "name": "stdout",
     "output_type": "stream",
     "text": [
      "Training accuracy = 0.8886, validation accuracy = 0.8963\n"
     ]
    }
   ],
   "source": [
    "fit_model(LogisticRegression())"
   ]
  },
  {
   "cell_type": "code",
   "execution_count": 67,
   "metadata": {},
   "outputs": [
    {
     "name": "stdout",
     "output_type": "stream",
     "text": [
      "Training accuracy = 0.9968, validation accuracy = 0.9852\n"
     ]
    }
   ],
   "source": [
    "fit_model(SVC(probability=True))"
   ]
  },
  {
   "cell_type": "code",
   "execution_count": 75,
   "metadata": {},
   "outputs": [
    {
     "name": "stdout",
     "output_type": "stream",
     "text": [
      "Training accuracy = 1.0000, validation accuracy = 0.9907\n"
     ]
    }
   ],
   "source": [
    "fit_model(SVC(gamma=100, probability=True))"
   ]
  },
  {
   "cell_type": "code",
   "execution_count": 88,
   "metadata": {},
   "outputs": [
    {
     "name": "stdout",
     "output_type": "stream",
     "text": [
      "[[54  0  0  0  0  0  0  0  0  0]\n",
      " [ 0 47  2  0  0  0  2  0  1  3]\n",
      " [ 1  1 47  2  0  0  0  1  0  1]\n",
      " [ 0  1  1 47  0  1  0  5  0  0]\n",
      " [ 0  0  0  0 51  0  0  3  0  0]\n",
      " [ 0  0  0  0  0 53  0  0  0  2]\n",
      " [ 0  1  0  0  1  0 52  0  0  0]\n",
      " [ 0  0  0  0  0  2  0 52  0  0]\n",
      " [ 0 13  1  2  0  1  2  1 31  1]\n",
      " [ 0  0  0  1  1  1  0  1  0 50]]\n"
     ]
    }
   ],
   "source": [
    "cf = confusion_matrix(yvalid, valid_pred)\n",
    "print(cf)"
   ]
  },
  {
   "cell_type": "code",
   "execution_count": 101,
   "metadata": {},
   "outputs": [
    {
     "data": {
      "text/plain": [
       "<sklearn.metrics._plot.confusion_matrix.ConfusionMatrixDisplay at 0x297aad87488>"
      ]
     },
     "execution_count": 101,
     "metadata": {},
     "output_type": "execute_result"
    },
    {
     "data": {
      "image/png": "[encoded data removed]",
      "text/plain": [
       "<Figure size 576x576 with 2 Axes>"
      ]
     },
     "metadata": {
      "needs_background": "light"
     },
     "output_type": "display_data"
    }
   ],
   "source": [
    "plot_confusion_matrix(model, xvalid, yvalid,\n",
    "                     cmap=mpl.pyplot.cm.Blues)"
   ]
  }
 ],
 "metadata": {
  "kernelspec": {
   "display_name": "Python [conda env:.conda-kaggle-sentiment]",
   "language": "python",
   "name": "conda-env-.conda-kaggle-sentiment-py"
  },
  "language_info": {
   "codemirror_mode": {
    "name": "ipython",
    "version": 3
   },
   "file_extension": ".py",
   "mimetype": "text/x-python",
   "name": "python",
   "nbconvert_exporter": "python",
   "pygments_lexer": "ipython3",
   "version": "3.7.7"
  }
 },
 "nbformat": 4,
 "nbformat_minor": 4
}
