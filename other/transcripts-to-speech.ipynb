{
 "cells": [
  {
   "cell_type": "code",
   "execution_count": 14,
   "metadata": {},
   "outputs": [],
   "source": [
    "import os\n",
    "files = [file for file in os.listdir(os.curdir) if file.endswith(\".txt\")]"
   ]
  },
  {
   "cell_type": "code",
   "execution_count": 15,
   "metadata": {},
   "outputs": [
    {
     "name": "stdout",
     "output_type": "stream",
     "text": [
      "['01_marketing.txt', '02_business_strategy_01.txt', '03_business_strategy_02.txt']\n"
     ]
    }
   ],
   "source": [
    "print(files)"
   ]
  },
  {
   "cell_type": "code",
   "execution_count": 24,
   "metadata": {},
   "outputs": [
    {
     "name": "stdout",
     "output_type": "stream",
     "text": [
      "01_marketing.mp3\n",
      "02_business_strategy_01.mp3\n",
      "03_business_strategy_02.mp3\n"
     ]
    }
   ],
   "source": [
    "for file in files:\n",
    "    with open(file, \"r\") as f:\n",
    "        text = f.read()\n",
    "        tts = gTTS(text)\n",
    "        \n",
    "        output_file = \"{}.mp3\".format(file[:-4])\n",
    "        print(output_file)\n",
    "        tts.save(output_file)"
   ]
  },
  {
   "cell_type": "markdown",
   "metadata": {},
   "source": [
    "## Code to convert text to speech using pyttsx3"
   ]
  },
  {
   "cell_type": "code",
   "execution_count": null,
   "metadata": {},
   "outputs": [],
   "source": [
    "import pyttsx3\n",
    "engine = pyttsx3.init(\"sapi5\")\n",
    "\n",
    "voices = engine.getProperty('voices')\n",
    "print(len(voices))\n",
    "rate = engine.getProperty('rate')\n",
    "for voice in voices:\n",
    "    engine.setProperty('voice', voice.id)\n",
    "    engine.setProperty('rate', rate+50)\n",
    "    engine.say('The quick brown fox jumped over the lazy dog.')\n",
    "engine.runAndWait()"
   ]
  }
 ],
 "metadata": {
  "kernelspec": {
   "display_name": "Python 3",
   "language": "python",
   "name": "python3"
  },
  "language_info": {
   "codemirror_mode": {
    "name": "ipython",
    "version": 3
   },
   "file_extension": ".py",
   "mimetype": "text/x-python",
   "name": "python",
   "nbconvert_exporter": "python",
   "pygments_lexer": "ipython3",
   "version": "3.7.3"
  }
 },
 "nbformat": 4,
 "nbformat_minor": 2
}
