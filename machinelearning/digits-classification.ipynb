{
 "cells": [
  {
   "cell_type": "code",
   "execution_count": 63,
   "metadata": {},
   "outputs": [],
   "source": [
    "from sklearn import datasets\n",
    "from sklearn.model_selection import train_test_split\n",
    "from sklearn.linear_model import LogisticRegression\n",
    "from sklearn.svm import SVC\n",
    "\n",
    "from sklearn.metrics import roc_auc_score, roc_curve, accuracy_score\n",
    "\n",
    "import numpy as np"
   ]
  },
  {
   "cell_type": "markdown",
   "metadata": {},
   "source": [
    "### Loading image data and splitting into train and validation set"
   ]
  },
  {
   "cell_type": "code",
   "execution_count": 17,
   "metadata": {},
   "outputs": [
    {
     "name": "stdout",
     "output_type": "stream",
     "text": [
      "Images shape: (1797, 8, 8), Targets shape: (1797,)\n"
     ]
    }
   ],
   "source": [
    "digits = datasets.load_digits()\n",
    "images, target, target_names = digits.images, digits.target, digits.target_names\n",
    "print(f\"Images shape: {images.shape}, Targets shape: {target.shape}\")"
   ]
  },
  {
   "cell_type": "code",
   "execution_count": 18,
   "metadata": {},
   "outputs": [],
   "source": [
    "n_images = images.shape[0]\n",
    "data = images.reshape(n_images, -1)"
   ]
  },
  {
   "cell_type": "code",
   "execution_count": 37,
   "metadata": {},
   "outputs": [],
   "source": [
    "xtrain, xvalid, ytrain, yvalid = train_test_split(data, target, test_size=0.3, stratify=target)\n",
    "xtrain /= 255\n",
    "xvalid /= 255"
   ]
  },
  {
   "cell_type": "markdown",
   "metadata": {},
   "source": [
    "### Fitting models"
   ]
  },
  {
   "cell_type": "code",
   "execution_count": 64,
   "metadata": {},
   "outputs": [],
   "source": [
    "def fit_model(model):\n",
    "    model_fit = model.fit(xtrain, ytrain)\n",
    "    train_probs = model.predict_proba(xtrain)\n",
    "    valid_probs = model.predict_proba(xvalid)\n",
    "\n",
    "    train_pred = np.argmax(train_probs, axis=1)\n",
    "    valid_pred = np.argmax(valid_probs, axis=1)\n",
    "\n",
    "    train_accuracy = accuracy_score(ytrain, train_pred)\n",
    "    valid_accuracy = accuracy_score(yvalid, valid_pred)\n",
    "\n",
    "    print(f\"Training accuracy = {train_accuracy:.4f}, validation accuracy = {valid_accuracy:.4f}\")"
   ]
  },
  {
   "cell_type": "code",
   "execution_count": 65,
   "metadata": {},
   "outputs": [
    {
     "name": "stdout",
     "output_type": "stream",
     "text": [
      "Training accuracy = 0.8886, validation accuracy = 0.8963\n"
     ]
    }
   ],
   "source": [
    "fit_model(LogisticRegression())"
   ]
  },
  {
   "cell_type": "code",
   "execution_count": 67,
   "metadata": {},
   "outputs": [
    {
     "name": "stdout",
     "output_type": "stream",
     "text": [
      "Training accuracy = 0.9968, validation accuracy = 0.9852\n"
     ]
    }
   ],
   "source": [
    "fit_model(SVC(probability=True))"
   ]
  },
  {
   "cell_type": "code",
   "execution_count": 75,
   "metadata": {},
   "outputs": [
    {
     "name": "stdout",
     "output_type": "stream",
     "text": [
      "Training accuracy = 1.0000, validation accuracy = 0.9907\n"
     ]
    }
   ],
   "source": [
    "fit_model(SVC(gamma=100, probability=True))"
   ]
  }
 ],
 "metadata": {
  "kernelspec": {
   "display_name": "Python [conda env:.conda-kaggle-sentiment]",
   "language": "python",
   "name": "conda-env-.conda-kaggle-sentiment-py"
  },
  "language_info": {
   "codemirror_mode": {
    "name": "ipython",
    "version": 3
   },
   "file_extension": ".py",
   "mimetype": "text/x-python",
   "name": "python",
   "nbconvert_exporter": "python",
   "pygments_lexer": "ipython3",
   "version": "3.7.7"
  }
 },
 "nbformat": 4,
 "nbformat_minor": 4
}
